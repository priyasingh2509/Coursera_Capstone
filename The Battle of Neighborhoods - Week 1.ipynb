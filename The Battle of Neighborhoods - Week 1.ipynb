{
    "cells": [
        {
            "cell_type": "markdown",
            "metadata": {
                "collapsed": true
            },
            "source": "# Coursera Capstone Project"
        },
        {
            "cell_type": "markdown",
            "metadata": {},
            "source": "## Applied Data Science Capstone by Coursera/IBM"
        },
        {
            "cell_type": "markdown",
            "metadata": {},
            "source": "## Table of Contents:\n        \n     * Introduction: Business Problem\n     * Data\n     * Methodology\n     * Analysis\n     * Results & Discussions\n     * Conclusion"
        },
        {
            "cell_type": "markdown",
            "metadata": {},
            "source": "## Introduction: Business Problem\n\nThe project aims at selecting the safest borough in London based on total crime, exploring the neighborhoods of that borough to find the 10 most common venues in each neighborhood, and finally clustering neighborhoods using k-mean clustering.\n\nThe report is aimed at people looking to relocate to London. When finalizing a neighborhood to hunt for an apartment, security is considered a major issue when moving to a new location. If you are not safe in your own home, you cannot live there. Crime statistics provide insight into this issue.\n\nWe focus on Safe Borough and explore its neighborhoods and the 10 most common venues in each neighborhood so that you can choose the best neighborhood that suits a person's needs."
        },
        {
            "cell_type": "markdown",
            "metadata": {},
            "source": "## Data:\n\nBased on definition of our problem, factors that will influence our decision are:\n\nThe total number of crimes commited in each of the borough during the last year.\nThe most common venues in each of the neighborhood in the safest borough selected.\nFollowing data sources will be needed to extract/generate the required information:\n\n**Part 1:** Preprocessing a real world data set from Kaggle showing the London Crimes from 2008 to 2016: A dataset consisting of the crime statistics of each borough in London obtained from Kaggle\n\n\n**Part 2:** Scraping additional information of the different Boroughs in London from a Wikipedia page.: More information regarding the boroughs of London is scraped using the Beautifulsoup library\n\n\n**Part 3:** Creating a new dataset of the Neighborhoods of the safest borough in London and generating their co-ordinates.: Co-ordinate of neighborhood will be obtained using Google Maps API geocoding"
        },
        {
            "cell_type": "markdown",
            "metadata": {},
            "source": "### Part 1: Preprocessing a real world data set from Kaggle showing the London Crimes from 2008 to 2016: A dataset consisting of the crime statistics of each borough in London obtained from Kaggle\n\n#### London Crime Data\n\nAbout this file\n\n* lsoa_code: code for Lower Super Output Area in Greater London.\n* borough: Common name for London borough.\n* major_category: High level categorization of crime\n* minor_category: Low level categorization of crime within major category.\n* value: monthly reported count of categorical crime in given borough\n* year: Year of reported counts, 2008-2016\n* month: Month of reported counts, 1-12\n\nLink to the dataset: <https://www.kaggle.com/jboysen/london-crime>"
        },
        {
            "cell_type": "markdown",
            "metadata": {},
            "source": ""
        },
        {
            "cell_type": "code",
            "execution_count": null,
            "metadata": {},
            "outputs": [],
            "source": ""
        },
        {
            "cell_type": "code",
            "execution_count": null,
            "metadata": {},
            "outputs": [],
            "source": ""
        }
    ],
    "metadata": {
        "kernelspec": {
            "display_name": "Python 3.6",
            "language": "python",
            "name": "python3"
        },
        "language_info": {
            "codemirror_mode": {
                "name": "ipython",
                "version": 3
            },
            "file_extension": ".py",
            "mimetype": "text/x-python",
            "name": "python",
            "nbconvert_exporter": "python",
            "pygments_lexer": "ipython3",
            "version": "3.6.9"
        }
    },
    "nbformat": 4,
    "nbformat_minor": 1
}